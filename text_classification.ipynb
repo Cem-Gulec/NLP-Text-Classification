{
  "nbformat": 4,
  "nbformat_minor": 0,
  "metadata": {
    "colab": {
      "name": "Untitled4.ipynb",
      "provenance": [],
      "collapsed_sections": []
    },
    "kernelspec": {
      "name": "python3",
      "display_name": "Python 3"
    }
  },
  "cells": [
    {
      "cell_type": "code",
      "metadata": {
        "id": "mipDVVmBDHuS",
        "colab_type": "code",
        "colab": {}
      },
      "source": [
        "import pandas as pd\n",
        "import matplotlib.pyplot as plt\n",
        "\n",
        "from sklearn.feature_extraction.text import CountVectorizer\n",
        "from sklearn.model_selection import train_test_split\n",
        "\n",
        "from keras.models import Sequential\n",
        "from keras import layers\n",
        "from keras.preprocessing.text import Tokenizer\n",
        "from keras.preprocessing.sequence import pad_sequences"
      ],
      "execution_count": 23,
      "outputs": []
    },
    {
      "cell_type": "code",
      "metadata": {
        "id": "V1T0ayI_DI9A",
        "colab_type": "code",
        "colab": {
          "base_uri": "https://localhost:8080/",
          "height": 419
        },
        "outputId": "27715578-49d4-45fe-cf21-63284f6c3ff0"
      },
      "source": [
        "dict_path = {'imdb':   'imdb_labelled.txt'}\n",
        "\n",
        "# getting every element inside the txt file \n",
        "# and seperating them into \"sentence\" and \"label\" columns\n",
        "df_list = []\n",
        "for filepath in dict_path.items():\n",
        "    df = pd.read_csv('imdb_labelled.txt', names=['sentence', 'label'], sep='\\t')\n",
        "    df_list.append(df)\n",
        "\n",
        "df = pd.concat(df_list)\n",
        "df"
      ],
      "execution_count": 24,
      "outputs": [
        {
          "output_type": "execute_result",
          "data": {
            "text/html": [
              "<div>\n",
              "<style scoped>\n",
              "    .dataframe tbody tr th:only-of-type {\n",
              "        vertical-align: middle;\n",
              "    }\n",
              "\n",
              "    .dataframe tbody tr th {\n",
              "        vertical-align: top;\n",
              "    }\n",
              "\n",
              "    .dataframe thead th {\n",
              "        text-align: right;\n",
              "    }\n",
              "</style>\n",
              "<table border=\"1\" class=\"dataframe\">\n",
              "  <thead>\n",
              "    <tr style=\"text-align: right;\">\n",
              "      <th></th>\n",
              "      <th>sentence</th>\n",
              "      <th>label</th>\n",
              "    </tr>\n",
              "  </thead>\n",
              "  <tbody>\n",
              "    <tr>\n",
              "      <th>0</th>\n",
              "      <td>A very, very, very slow-moving, aimless movie ...</td>\n",
              "      <td>0</td>\n",
              "    </tr>\n",
              "    <tr>\n",
              "      <th>1</th>\n",
              "      <td>Not sure who was more lost - the flat characte...</td>\n",
              "      <td>0</td>\n",
              "    </tr>\n",
              "    <tr>\n",
              "      <th>2</th>\n",
              "      <td>Attempting artiness with black &amp; white and cle...</td>\n",
              "      <td>0</td>\n",
              "    </tr>\n",
              "    <tr>\n",
              "      <th>3</th>\n",
              "      <td>Very little music or anything to speak of.</td>\n",
              "      <td>0</td>\n",
              "    </tr>\n",
              "    <tr>\n",
              "      <th>4</th>\n",
              "      <td>The best scene in the movie was when Gerardo i...</td>\n",
              "      <td>1</td>\n",
              "    </tr>\n",
              "    <tr>\n",
              "      <th>...</th>\n",
              "      <td>...</td>\n",
              "      <td>...</td>\n",
              "    </tr>\n",
              "    <tr>\n",
              "      <th>743</th>\n",
              "      <td>I just got bored watching Jessice Lange take h...</td>\n",
              "      <td>0</td>\n",
              "    </tr>\n",
              "    <tr>\n",
              "      <th>744</th>\n",
              "      <td>Unfortunately, any virtue in this film's produ...</td>\n",
              "      <td>0</td>\n",
              "    </tr>\n",
              "    <tr>\n",
              "      <th>745</th>\n",
              "      <td>In a word, it is embarrassing.</td>\n",
              "      <td>0</td>\n",
              "    </tr>\n",
              "    <tr>\n",
              "      <th>746</th>\n",
              "      <td>Exceptionally bad!</td>\n",
              "      <td>0</td>\n",
              "    </tr>\n",
              "    <tr>\n",
              "      <th>747</th>\n",
              "      <td>All in all its an insult to one's intelligence...</td>\n",
              "      <td>0</td>\n",
              "    </tr>\n",
              "  </tbody>\n",
              "</table>\n",
              "<p>748 rows × 2 columns</p>\n",
              "</div>"
            ],
            "text/plain": [
              "                                              sentence  label\n",
              "0    A very, very, very slow-moving, aimless movie ...      0\n",
              "1    Not sure who was more lost - the flat characte...      0\n",
              "2    Attempting artiness with black & white and cle...      0\n",
              "3         Very little music or anything to speak of.        0\n",
              "4    The best scene in the movie was when Gerardo i...      1\n",
              "..                                                 ...    ...\n",
              "743  I just got bored watching Jessice Lange take h...      0\n",
              "744  Unfortunately, any virtue in this film's produ...      0\n",
              "745                   In a word, it is embarrassing.        0\n",
              "746                               Exceptionally bad!        0\n",
              "747  All in all its an insult to one's intelligence...      0\n",
              "\n",
              "[748 rows x 2 columns]"
            ]
          },
          "metadata": {
            "tags": []
          },
          "execution_count": 24
        }
      ]
    },
    {
      "cell_type": "code",
      "metadata": {
        "id": "06y7AD0tRSBA",
        "colab_type": "code",
        "colab": {}
      },
      "source": [
        "# extracting sentence and label values \n",
        "sentences = df['sentence'].values\n",
        "y = df['label'].values\n",
        "\n",
        "sentences_train, sentences_test, y_train, y_test = train_test_split(sentences, y, test_size=0.25, random_state=1000)\n",
        "\n",
        "# simply vectorizing every word passing through in sentences\n",
        "vectorizer = CountVectorizer()\n",
        "vectorizer.fit(sentences_train)\n",
        "vectorizer.vocabulary_\n",
        "\n",
        "X_train = vectorizer.transform(sentences_train)\n",
        "X_test  = vectorizer.transform(sentences_test)"
      ],
      "execution_count": 25,
      "outputs": []
    },
    {
      "cell_type": "code",
      "metadata": {
        "id": "U2R3XSHQV906",
        "colab_type": "code",
        "colab": {}
      },
      "source": [
        "model = Sequential()\n",
        "model.add(layers.Dense(10, input_dim = X_train.shape[1], activation='relu'))\n",
        "model.add(layers.Dense(1, activation='sigmoid'))\n",
        "model.compile(loss='binary_crossentropy', \n",
        "              optimizer='adam', \n",
        "              metrics=['accuracy'])"
      ],
      "execution_count": 26,
      "outputs": []
    },
    {
      "cell_type": "code",
      "metadata": {
        "id": "-ZUlnjhmctPA",
        "colab_type": "code",
        "colab": {
          "base_uri": "https://localhost:8080/",
          "height": 867
        },
        "outputId": "8373909f-38c9-4c9a-f76c-a5e5d9b6e7f1"
      },
      "source": [
        "history = model.fit(X_train, y_train,\n",
        "                    epochs=25,\n",
        "                    verbose=True,\n",
        "                    validation_data=(X_test, y_test),\n",
        "                    batch_size=10)"
      ],
      "execution_count": 27,
      "outputs": [
        {
          "output_type": "stream",
          "text": [
            "Epoch 1/25\n",
            "57/57 [==============================] - 0s 3ms/step - loss: 0.6919 - accuracy: 0.5437 - val_loss: 0.6885 - val_accuracy: 0.6203\n",
            "Epoch 2/25\n",
            "57/57 [==============================] - 0s 1ms/step - loss: 0.6384 - accuracy: 0.8271 - val_loss: 0.6776 - val_accuracy: 0.6898\n",
            "Epoch 3/25\n",
            "57/57 [==============================] - 0s 1ms/step - loss: 0.5682 - accuracy: 0.8806 - val_loss: 0.6411 - val_accuracy: 0.7326\n",
            "Epoch 4/25\n",
            "57/57 [==============================] - 0s 1ms/step - loss: 0.4750 - accuracy: 0.9287 - val_loss: 0.6186 - val_accuracy: 0.7487\n",
            "Epoch 5/25\n",
            "57/57 [==============================] - 0s 2ms/step - loss: 0.3821 - accuracy: 0.9643 - val_loss: 0.5717 - val_accuracy: 0.7433\n",
            "Epoch 6/25\n",
            "57/57 [==============================] - 0s 1ms/step - loss: 0.3050 - accuracy: 0.9750 - val_loss: 0.5718 - val_accuracy: 0.7594\n",
            "Epoch 7/25\n",
            "57/57 [==============================] - 0s 1ms/step - loss: 0.2454 - accuracy: 0.9840 - val_loss: 0.5190 - val_accuracy: 0.7701\n",
            "Epoch 8/25\n",
            "57/57 [==============================] - 0s 1ms/step - loss: 0.1998 - accuracy: 0.9840 - val_loss: 0.5489 - val_accuracy: 0.7754\n",
            "Epoch 9/25\n",
            "57/57 [==============================] - 0s 1ms/step - loss: 0.1659 - accuracy: 0.9911 - val_loss: 0.5260 - val_accuracy: 0.7807\n",
            "Epoch 10/25\n",
            "57/57 [==============================] - 0s 1ms/step - loss: 0.1389 - accuracy: 0.9964 - val_loss: 0.5247 - val_accuracy: 0.7754\n",
            "Epoch 11/25\n",
            "57/57 [==============================] - 0s 1ms/step - loss: 0.1179 - accuracy: 0.9964 - val_loss: 0.5274 - val_accuracy: 0.7861\n",
            "Epoch 12/25\n",
            "57/57 [==============================] - 0s 1ms/step - loss: 0.1009 - accuracy: 0.9982 - val_loss: 0.5177 - val_accuracy: 0.7968\n",
            "Epoch 13/25\n",
            "57/57 [==============================] - 0s 1ms/step - loss: 0.0870 - accuracy: 0.9982 - val_loss: 0.5277 - val_accuracy: 0.8021\n",
            "Epoch 14/25\n",
            "57/57 [==============================] - 0s 1ms/step - loss: 0.0756 - accuracy: 0.9982 - val_loss: 0.5381 - val_accuracy: 0.7914\n",
            "Epoch 15/25\n",
            "57/57 [==============================] - 0s 1ms/step - loss: 0.0665 - accuracy: 0.9982 - val_loss: 0.5381 - val_accuracy: 0.7914\n",
            "Epoch 16/25\n",
            "57/57 [==============================] - 0s 1ms/step - loss: 0.0586 - accuracy: 0.9982 - val_loss: 0.5387 - val_accuracy: 0.8021\n",
            "Epoch 17/25\n",
            "57/57 [==============================] - 0s 1ms/step - loss: 0.0522 - accuracy: 0.9982 - val_loss: 0.5411 - val_accuracy: 0.7968\n",
            "Epoch 18/25\n",
            "57/57 [==============================] - 0s 2ms/step - loss: 0.0466 - accuracy: 0.9982 - val_loss: 0.5474 - val_accuracy: 0.8021\n",
            "Epoch 19/25\n",
            "57/57 [==============================] - 0s 1ms/step - loss: 0.0419 - accuracy: 0.9982 - val_loss: 0.5508 - val_accuracy: 0.7914\n",
            "Epoch 20/25\n",
            "57/57 [==============================] - 0s 1ms/step - loss: 0.0377 - accuracy: 0.9982 - val_loss: 0.5712 - val_accuracy: 0.7914\n",
            "Epoch 21/25\n",
            "57/57 [==============================] - 0s 1ms/step - loss: 0.0341 - accuracy: 0.9982 - val_loss: 0.5952 - val_accuracy: 0.7914\n",
            "Epoch 22/25\n",
            "57/57 [==============================] - 0s 1ms/step - loss: 0.0309 - accuracy: 0.9982 - val_loss: 0.5870 - val_accuracy: 0.7968\n",
            "Epoch 23/25\n",
            "57/57 [==============================] - 0s 1ms/step - loss: 0.0281 - accuracy: 0.9982 - val_loss: 0.6067 - val_accuracy: 0.7914\n",
            "Epoch 24/25\n",
            "57/57 [==============================] - 0s 1ms/step - loss: 0.0257 - accuracy: 0.9982 - val_loss: 0.6109 - val_accuracy: 0.7914\n",
            "Epoch 25/25\n",
            "57/57 [==============================] - 0s 1ms/step - loss: 0.0236 - accuracy: 0.9982 - val_loss: 0.6218 - val_accuracy: 0.7861\n"
          ],
          "name": "stdout"
        }
      ]
    },
    {
      "cell_type": "code",
      "metadata": {
        "id": "7rpjeX5qc4um",
        "colab_type": "code",
        "colab": {
          "base_uri": "https://localhost:8080/",
          "height": 34
        },
        "outputId": "29448b3d-287a-4d67-90f5-afe3c726e86b"
      },
      "source": [
        "score = model.evaluate(X_test, y_test, verbose = False)\n",
        "print(\"score: %.2f\" % (score[1]))"
      ],
      "execution_count": 28,
      "outputs": [
        {
          "output_type": "stream",
          "text": [
            "score: 0.79\n"
          ],
          "name": "stdout"
        }
      ]
    },
    {
      "cell_type": "code",
      "metadata": {
        "id": "u5XzcqTyZkaw",
        "colab_type": "code",
        "colab": {}
      },
      "source": [
        "tokenizer = Tokenizer(num_words=5000)\n",
        "tokenizer.fit_on_texts(sentences_train)\n",
        "\n",
        "X_train = tokenizer.texts_to_sequences(sentences_train)\n",
        "X_test = tokenizer.texts_to_sequences(sentences_test)\n",
        "\n",
        "vocab_size = len(tokenizer.word_index) + 1  "
      ],
      "execution_count": null,
      "outputs": []
    },
    {
      "cell_type": "code",
      "metadata": {
        "id": "87N2GNObdn52",
        "colab_type": "code",
        "colab": {}
      },
      "source": [
        "model2 = Sequential()\n",
        "model2.add(layers.Embedding(vocab_size, 100, input_length=100))\n",
        "model2.add(layers.Conv1D(128, 5, activation='relu'))\n",
        "model2.add(layers.GlobalMaxPooling1D())\n",
        "model2.add(layers.Dense(10, activation='relu'))\n",
        "model2.add(layers.Dense(1, activation='sigmoid'))\n",
        "model2.compile(optimizer='adam',\n",
        "              loss='binary_crossentropy',\n",
        "              metrics=['accuracy'])\n"
      ],
      "execution_count": null,
      "outputs": []
    },
    {
      "cell_type": "code",
      "metadata": {
        "id": "UpNzTFvhyIP-",
        "colab_type": "code",
        "colab": {}
      },
      "source": [
        "history2 = model2.fit(X_train, y_train,\n",
        "                    epochs=10,\n",
        "                    verbose=False,\n",
        "                    validation_data=(X_test, y_test),\n",
        "                    batch_size=10)"
      ],
      "execution_count": null,
      "outputs": []
    },
    {
      "cell_type": "code",
      "metadata": {
        "id": "BXAUmLDK-N_j",
        "colab_type": "code",
        "colab": {}
      },
      "source": [
        "score = model2.evaluate(X_test, y_test, verbose = False)\n",
        "print(\"score: %.2f\" % (score[1]))"
      ],
      "execution_count": null,
      "outputs": []
    },
    {
      "cell_type": "code",
      "metadata": {
        "id": "TvAvTxnvCQiq",
        "colab_type": "code",
        "colab": {
          "base_uri": "https://localhost:8080/",
          "height": 295
        },
        "outputId": "b5dc9f58-8def-4040-ec75-b61895825b00"
      },
      "source": [
        "plt.title('Loss / Mean Squared Error')\n",
        "plt.plot(history.history['loss'], label='train')\n",
        "plt.plot(history.history['val_loss'], label='test')\n",
        "plt.xlabel(\"Epochs\")\n",
        "plt.ylabel(\"Accuracy\")\n",
        "plt.legend()\n",
        "plt.show()"
      ],
      "execution_count": 29,
      "outputs": [
        {
          "output_type": "display_data",
          "data": {
            "image/png": "[encoded data removed]",
            "text/plain": [
              "<Figure size 432x288 with 1 Axes>"
            ]
          },
          "metadata": {
            "tags": [],
            "needs_background": "light"
          }
        }
      ]
    },
    {
      "cell_type": "code",
      "metadata": {
        "id": "WbzRdDefDUNN",
        "colab_type": "code",
        "colab": {
          "base_uri": "https://localhost:8080/",
          "height": 295
        },
        "outputId": "80cc98cf-5f19-439b-a817-42f981f9f864"
      },
      "source": [
        "plt.title('Loss / Mean Squared Error')\n",
        "plt.plot(history.history['accuracy'], label='train')\n",
        "plt.xlabel(\"Epochs\")\n",
        "plt.ylabel(\"Accuracy\")\n",
        "plt.plot(history.history['val_accuracy'], label='test')\n",
        "plt.legend()\n",
        "plt.show()"
      ],
      "execution_count": 30,
      "outputs": [
        {
          "output_type": "display_data",
          "data": {
            "image/png": "[encoded data removed]",
            "text/plain": [
              "<Figure size 432x288 with 1 Axes>"
            ]
          },
          "metadata": {
            "tags": [],
            "needs_background": "light"
          }
        }
      ]
    },
    {
      "cell_type": "code",
      "metadata": {
        "id": "LEiBxh-gXBXW",
        "colab_type": "code",
        "colab": {
          "base_uri": "https://localhost:8080/",
          "height": 1000
        },
        "outputId": "ca54632a-556a-4ef5-e3cd-bfa9f8bae079"
      },
      "source": [
        "print(model.predict(X_test))"
      ],
      "execution_count": 31,
      "outputs": [
        {
          "output_type": "stream",
          "text": [
            "[[9.93590474e-01]\n",
            " [5.69496751e-02]\n",
            " [8.66398215e-03]\n",
            " [9.60836411e-01]\n",
            " [4.89881933e-02]\n",
            " [2.06147164e-01]\n",
            " [5.26125669e-01]\n",
            " [4.29839373e-01]\n",
            " [8.82587075e-01]\n",
            " [6.18548989e-02]\n",
            " [9.93236899e-01]\n",
            " [2.29502380e-01]\n",
            " [7.27515817e-02]\n",
            " [1.32190883e-02]\n",
            " [4.93658185e-02]\n",
            " [5.04518509e-01]\n",
            " [4.65498775e-01]\n",
            " [1.26280189e-02]\n",
            " [2.74098933e-01]\n",
            " [4.88019347e-01]\n",
            " [1.58467263e-01]\n",
            " [9.72142339e-01]\n",
            " [6.06912971e-01]\n",
            " [8.42376947e-01]\n",
            " [8.79043221e-01]\n",
            " [8.33364487e-01]\n",
            " [8.62276018e-01]\n",
            " [8.48481476e-01]\n",
            " [9.99487758e-01]\n",
            " [4.12473679e-02]\n",
            " [3.35781872e-02]\n",
            " [2.20925212e-01]\n",
            " [9.70773160e-01]\n",
            " [9.79315698e-01]\n",
            " [5.58750331e-02]\n",
            " [9.56303179e-01]\n",
            " [7.89010584e-01]\n",
            " [2.79010922e-01]\n",
            " [3.13301384e-01]\n",
            " [5.06669879e-01]\n",
            " [2.94085175e-01]\n",
            " [9.86380100e-01]\n",
            " [1.53013140e-01]\n",
            " [1.21539235e-02]\n",
            " [9.82366443e-01]\n",
            " [3.11607659e-01]\n",
            " [4.29761231e-01]\n",
            " [3.61435801e-01]\n",
            " [6.47452056e-01]\n",
            " [7.34766006e-01]\n",
            " [9.53533053e-01]\n",
            " [2.75528342e-01]\n",
            " [1.16913974e-01]\n",
            " [2.84668267e-01]\n",
            " [1.01649761e-03]\n",
            " [4.45771873e-01]\n",
            " [7.61064112e-01]\n",
            " [1.25885010e-04]\n",
            " [7.44084120e-01]\n",
            " [9.42466855e-01]\n",
            " [7.57099330e-01]\n",
            " [6.97478354e-02]\n",
            " [4.76127535e-01]\n",
            " [2.36894310e-01]\n",
            " [4.42849100e-02]\n",
            " [5.74893713e-01]\n",
            " [9.24911499e-02]\n",
            " [9.99410629e-01]\n",
            " [9.16178584e-01]\n",
            " [3.02146375e-02]\n",
            " [7.79209614e-01]\n",
            " [5.26189804e-04]\n",
            " [3.32430005e-02]\n",
            " [2.28796393e-01]\n",
            " [9.19279099e-01]\n",
            " [9.46278453e-01]\n",
            " [3.45305681e-01]\n",
            " [6.88719034e-01]\n",
            " [8.21256161e-01]\n",
            " [9.35433328e-01]\n",
            " [3.95834446e-04]\n",
            " [8.70636106e-03]\n",
            " [4.14423347e-02]\n",
            " [3.94968390e-02]\n",
            " [1.26676857e-02]\n",
            " [9.31375980e-01]\n",
            " [9.59565997e-01]\n",
            " [3.37622464e-01]\n",
            " [7.38153577e-01]\n",
            " [8.12864304e-01]\n",
            " [9.81569290e-04]\n",
            " [6.69556856e-03]\n",
            " [9.42859054e-01]\n",
            " [1.33000612e-01]\n",
            " [9.99006510e-01]\n",
            " [9.99647856e-01]\n",
            " [8.31903040e-01]\n",
            " [1.00000000e+00]\n",
            " [4.06759024e-01]\n",
            " [3.55079651e-01]\n",
            " [9.79918838e-01]\n",
            " [9.89653885e-01]\n",
            " [9.80410933e-01]\n",
            " [7.27954626e-01]\n",
            " [6.66840255e-01]\n",
            " [1.40641928e-02]\n",
            " [9.97422338e-01]\n",
            " [9.74929094e-01]\n",
            " [8.74343514e-02]\n",
            " [3.76817584e-03]\n",
            " [7.31320381e-02]\n",
            " [9.99000669e-01]\n",
            " [9.94559407e-01]\n",
            " [2.68441647e-01]\n",
            " [4.23972011e-02]\n",
            " [4.43025112e-01]\n",
            " [7.67654181e-02]\n",
            " [1.16038322e-02]\n",
            " [4.47988510e-01]\n",
            " [6.52268529e-03]\n",
            " [8.39924574e-01]\n",
            " [9.91603911e-01]\n",
            " [9.73857582e-01]\n",
            " [6.74393356e-01]\n",
            " [1.00515485e-02]\n",
            " [4.33671474e-03]\n",
            " [9.74471986e-01]\n",
            " [6.28367364e-02]\n",
            " [2.36859649e-01]\n",
            " [2.85693705e-02]\n",
            " [9.55112457e-01]\n",
            " [9.85619903e-01]\n",
            " [8.44767213e-01]\n",
            " [8.56019974e-01]\n",
            " [6.97878540e-01]\n",
            " [6.50576353e-02]\n",
            " [7.16061950e-01]\n",
            " [9.66748297e-01]\n",
            " [2.23624706e-02]\n",
            " [9.09153342e-01]\n",
            " [3.22443247e-02]\n",
            " [7.17833042e-02]\n",
            " [7.70768046e-01]\n",
            " [1.54976249e-02]\n",
            " [2.61386395e-01]\n",
            " [1.41733766e-01]\n",
            " [1.23717844e-01]\n",
            " [6.25889778e-01]\n",
            " [8.32767367e-01]\n",
            " [8.77656102e-01]\n",
            " [6.78102791e-01]\n",
            " [8.92204642e-01]\n",
            " [5.96507490e-02]\n",
            " [9.54592705e-01]\n",
            " [9.25069690e-01]\n",
            " [2.41622984e-01]\n",
            " [1.09944969e-01]\n",
            " [3.00933331e-01]\n",
            " [9.72485602e-01]\n",
            " [2.66305327e-01]\n",
            " [8.20047557e-01]\n",
            " [1.67065531e-01]\n",
            " [9.71432328e-01]\n",
            " [6.01573050e-01]\n",
            " [2.52351701e-01]\n",
            " [8.69798779e-01]\n",
            " [8.35253477e-01]\n",
            " [5.89931011e-03]\n",
            " [9.96668458e-01]\n",
            " [3.56101125e-01]\n",
            " [2.50985920e-02]\n",
            " [1.28351092e-01]\n",
            " [8.20139766e-01]\n",
            " [7.07656801e-01]\n",
            " [9.43204284e-01]\n",
            " [1.86226994e-01]\n",
            " [3.90783817e-01]\n",
            " [9.95958924e-01]\n",
            " [8.97291899e-01]\n",
            " [1.94840431e-02]\n",
            " [9.77081895e-01]\n",
            " [9.42772627e-03]\n",
            " [2.76947975e-01]\n",
            " [8.39547038e-01]\n",
            " [2.26479769e-03]\n",
            " [8.96520197e-01]\n",
            " [4.05727953e-01]]\n"
          ],
          "name": "stdout"
        }
      ]
    },
    {
      "cell_type": "code",
      "metadata": {
        "id": "qVdoubshXLrq",
        "colab_type": "code",
        "colab": {}
      },
      "source": [
        ""
      ],
      "execution_count": null,
      "outputs": []
    }
  ]
}